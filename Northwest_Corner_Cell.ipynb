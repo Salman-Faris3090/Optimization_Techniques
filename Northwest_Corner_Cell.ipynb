{
  "nbformat": 4,
  "nbformat_minor": 0,
  "metadata": {
    "colab": {
      "provenance": [],
      "authorship_tag": "ABX9TyPDWyZsTNBkLksqS2fJxiaw",
      "include_colab_link": true
    },
    "kernelspec": {
      "name": "python3",
      "display_name": "Python 3"
    },
    "language_info": {
      "name": "python"
    }
  },
  "cells": [
    {
      "cell_type": "markdown",
      "metadata": {
        "id": "view-in-github",
        "colab_type": "text"
      },
      "source": [
        "<a href=\"https://colab.research.google.com/github/Salman-Faris3090/Optimization_Techniques/blob/main/Northwest_Corner_Cell.ipynb\" target=\"_parent\"><img src=\"https://colab.research.google.com/assets/colab-badge.svg\" alt=\"Open In Colab\"/></a>"
      ]
    },
    {
      "cell_type": "code",
      "execution_count": 1,
      "metadata": {
        "colab": {
          "base_uri": "https://localhost:8080/"
        },
        "id": "Dkk8OFbqv5tD",
        "outputId": "242ab179-bd5f-4d55-d0b2-5b38f9205b95"
      },
      "outputs": [
        {
          "output_type": "stream",
          "name": "stdout",
          "text": [
            "Allocation Matrix:\n",
            "[[250.  50.   0.   0.]\n",
            " [  0. 300. 100.   0.]\n",
            " [  0.   0. 300. 200.]]\n",
            "\n",
            "\n",
            "Minimum cost =  4400.0\n"
          ]
        }
      ],
      "source": [
        "import numpy as np\n",
        "\n",
        "def northWestCornerCell(cost_matrix,supply,demand):\n",
        "    m,n = cost_matrix.shape\n",
        "    allocation = np.zeros((m,n))\n",
        "    i,j=0,0\n",
        "    while i<m and j<n:\n",
        "        quantity = min(supply[i],demand[j])\n",
        "        allocation[i,j] = quantity\n",
        "        supply[i] -= quantity\n",
        "        demand[j] -= quantity\n",
        "\n",
        "        if supply[i] == 0:\n",
        "            i += 1\n",
        "        else:\n",
        "            j += 1\n",
        "    return allocation\n",
        "\n",
        "def calculate_cost(allocation, cost_matrix):\n",
        "    return np.sum(allocation * cost_matrix)\n",
        "\n",
        "# Example problem\n",
        "cost_matrix = np.array([\n",
        "    [3, 1, 7, 4],\n",
        "    [2, 6, 5, 9],\n",
        "    [8,3, 3, 2]\n",
        "])\n",
        "\n",
        "supply = np.array([300, 400, 500])\n",
        "demand = np.array([250, 350, 400, 200])\n",
        "\n",
        "# Apply the Northwest Corner Method\n",
        "allocation = northWestCornerCell(cost_matrix, supply, demand)\n",
        "min_cost= calculate_cost(allocation, cost_matrix)\n",
        "# Print the results\n",
        "print(\"Allocation Matrix:\")\n",
        "print(allocation)\n",
        "print(\"\\n\\nMinimum cost = \", min_cost)"
      ]
    }
  ]
}