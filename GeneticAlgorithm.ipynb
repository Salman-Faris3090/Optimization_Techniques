{
  "nbformat": 4,
  "nbformat_minor": 0,
  "metadata": {
    "colab": {
      "provenance": [],
      "authorship_tag": "ABX9TyNLs9zX5xRdeE+gPlmXQ001"
    },
    "kernelspec": {
      "name": "python3",
      "display_name": "Python 3"
    },
    "language_info": {
      "name": "python"
    }
  },
  "cells": [
    {
      "cell_type": "code",
      "execution_count": null,
      "metadata": {
        "colab": {
          "base_uri": "https://localhost:8080/"
        },
        "id": "hKgQiWwrD3k_",
        "outputId": "0c94a3b6-c364-4747-cd0a-9c138f6922be"
      },
      "outputs": [
        {
          "output_type": "stream",
          "name": "stdout",
          "text": [
            "Items matrix: [8, 12, 10, 6, 9, 14, 1, 11, 15, 2, 13, 5, 3, 7, 4]\n",
            "Target sum: 33\n",
            "Elements that give the target sum: [6, 9, 2, 5, 7, 4]\n",
            "Sum =  33\n"
          ]
        }
      ],
      "source": [
        "  import random\n",
        "  numofelems =   15\n",
        "\n",
        "  items = random.sample(range(1,16),numofelems)\n",
        "\n",
        "\n",
        "  target_sum = random.randint(1, sum(items))\n",
        "\n",
        "  def generate_population(size):\n",
        "      population = []\n",
        "      for _ in range(size):\n",
        "          chromosome = [random.choice([0,   1]) for _ in range(len(items))]\n",
        "          population.append(chromosome)\n",
        "      return population\n",
        "\n",
        "  def calculate_fitness(chromosome):\n",
        "      subset_sum = sum(item * bit for item, bit in zip(items, chromosome))\n",
        "      if subset_sum == target_sum:\n",
        "          return  1\n",
        "      elif subset_sum > target_sum:\n",
        "          return  0\n",
        "      else:\n",
        "          return subset_sum / target_sum\n",
        "\n",
        "\n",
        "  def select_chromosomes(population):\n",
        "      fitness_values = [calculate_fitness(chromosome) for chromosome in population]\n",
        "      fitness_values = [float(i)/sum(fitness_values) for i in fitness_values]\n",
        "      parent1 = random.choices(population, weights=fitness_values, k=1)[0]\n",
        "      parent2 = random.choices(population, weights=fitness_values, k=1)[0]\n",
        "      return parent1, parent2\n",
        "\n",
        "  def crossover(parent1, parent2):\n",
        "      crossover_point = random.randint(0, len(items)-1)\n",
        "      child1 = parent1[:crossover_point] + parent2[crossover_point:]\n",
        "      child2 = parent2[:crossover_point] + parent1[crossover_point:]\n",
        "      return child1, child2\n",
        "\n",
        "  def mutate(chromosome):\n",
        "      mutation_point = random.randint(0, len(items)-1)\n",
        "      chromosome[mutation_point] =   1 - chromosome[mutation_point]\n",
        "      return chromosome\n",
        "\n",
        "  def get_best(population):\n",
        "      fitness_values = [calculate_fitness(chromosome) for chromosome in population]\n",
        "      max_value = max(fitness_values)\n",
        "      max_index = fitness_values.index(max_value)\n",
        "      return population[max_index]\n",
        "\n",
        "  population_size =   10\n",
        "  mutation_probability =   0.2\n",
        "  generations =  200000\n",
        "\n",
        "  population = generate_population(population_size)\n",
        "  for _ in range(generations):\n",
        "      parent1, parent2 = select_chromosomes(population)\n",
        "      child1, child2 = crossover(parent1, parent2)\n",
        "      if random.uniform(0,  1) < mutation_probability:\n",
        "          child1 = mutate(child1)\n",
        "      if random.uniform(0,  1) < mutation_probability:\n",
        "          child2 = mutate(child2)\n",
        "\n",
        "      fitness_values = [calculate_fitness(chromosome) for chromosome in population]\n",
        "      min_fitness_indexes = sorted(range(len(fitness_values)), key=lambda x: fitness_values[x])[:2]\n",
        "      population[min_fitness_indexes[0]] = child1\n",
        "      population[min_fitness_indexes[1]] = child2\n",
        "\n",
        "\n",
        "  best = get_best(population)\n",
        "\n",
        "  subset_sum = sum(item * bit for item, bit in zip(items, best))\n",
        "\n",
        "  print(\"Items matrix:\", items)\n",
        "  print(\"Target sum:\", target_sum)\n",
        "  print(\"Elements that give the target sum:\", [item for item, bit in zip(items, best) if bit ==  1])\n",
        "  print(\"Sum = \",sum([item for item, bit in zip(items, best) if bit ==  1]))"
      ]
    }
  ]
}