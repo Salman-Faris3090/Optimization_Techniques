{
  "nbformat": 4,
  "nbformat_minor": 0,
  "metadata": {
    "colab": {
      "provenance": [],
      "authorship_tag": "ABX9TyMT9hbJb89tXWAgF2vqY0OI"
    },
    "kernelspec": {
      "name": "python3",
      "display_name": "Python 3"
    },
    "language_info": {
      "name": "python"
    }
  },
  "cells": [
    {
      "cell_type": "code",
      "execution_count": 1,
      "metadata": {
        "colab": {
          "base_uri": "https://localhost:8080/"
        },
        "id": "CbkbcUREwMYy",
        "outputId": "dc501b4a-612a-4a87-cb8a-b517fd1a3766"
      },
      "outputs": [
        {
          "output_type": "stream",
          "name": "stdout",
          "text": [
            "The basic feasible solution is  2850\n"
          ]
        }
      ],
      "source": [
        "grid = [\n",
        "\t[3, 1, 7, 4],\n",
        "    [2, 6, 5, 9],\n",
        "    [8,3, 3, 2]\n",
        "]\n",
        "supply = [300, 400, 500] # supply\n",
        "demand = [250, 350, 400, 200] # demand\n",
        "INF = 10**3\n",
        "n = len(grid)\n",
        "m = len(grid[0])\n",
        "ans = 0\n",
        "\n",
        "# hepler function for finding the row difference and the column difference\n",
        "def findDiff(grid):\n",
        "\trowDiff = []\n",
        "\tcolDiff = []\n",
        "\tfor i in range(len(grid)):\n",
        "\t\tarr = grid[i][:]\n",
        "\t\tarr.sort()\n",
        "\t\trowDiff.append(arr[1]-arr[0])\n",
        "\tcol = 0\n",
        "\twhile col < len(grid[0]):\n",
        "\t\tarr = []\n",
        "\t\tfor i in range(len(grid)):\n",
        "\t\t\tarr.append(grid[i][col])\n",
        "\t\tarr.sort()\n",
        "\t\tcol += 1\n",
        "\t\tcolDiff.append(arr[1]-arr[0])\n",
        "\treturn rowDiff, colDiff\n",
        "\n",
        "\n",
        "# loop runs until both the demand and the supply is exhausted\n",
        "while max(supply) != 0 or max(demand) != 0:\n",
        "\t# finding the row and col difference\n",
        "\trow, col = findDiff(grid)\n",
        "\t# finding the maxiumum element in row difference array\n",
        "\tmaxi1 = max(row)\n",
        "\t# finding the maxiumum element in col difference array\n",
        "\tmaxi2 = max(col)\n",
        "\n",
        "\t# if the row diff max element is greater than or equal to col diff max element\n",
        "\tif(maxi1 >= maxi2):\n",
        "\t\tfor ind, val in enumerate(row):\n",
        "\t\t\tif(val == maxi1):\n",
        "\t\t\t\t# finding the minimum element in grid index where the maximum was found in the row difference\n",
        "\t\t\t\tmini1 = min(grid[ind])\n",
        "\t\t\t\tfor ind2, val2 in enumerate(grid[ind]):\n",
        "\t\t\t\t\tif(val2 == mini1):\n",
        "\t\t\t\t\t\t# calculating the min of supply and demand in that row and col\n",
        "\t\t\t\t\t\tmini2 = min(supply[ind], demand[ind2])\n",
        "\t\t\t\t\t\tans += mini2 * mini1\n",
        "\t\t\t\t\t\t# subtracting the min from the supply and demand\n",
        "\t\t\t\t\t\tsupply[ind] -= mini2\n",
        "\t\t\t\t\t\tdemand[ind2] -= mini2\n",
        "\t\t\t\t\t\t# if demand is smaller then the entire col is assigned max value so that the col is eliminated for the next iteration\n",
        "\t\t\t\t\t\tif(demand[ind2] == 0):\n",
        "\t\t\t\t\t\t\tfor r in range(n):\n",
        "\t\t\t\t\t\t\t\tgrid[r][ind2] = INF\n",
        "\t\t\t\t\t\t# if supply is smaller then the entire row is assigned max value so that the row is eliminated for the next iteration\n",
        "\t\t\t\t\t\telse:\n",
        "\t\t\t\t\t\t\tgrid[ind] = [INF for i in range(m)]\n",
        "\t\t\t\t\t\tbreak\n",
        "\t\t\t\tbreak\n",
        "\t# if the row diff max element is greater than col diff max element\n",
        "\telse:\n",
        "\t\tfor ind, val in enumerate(col):\n",
        "\t\t\tif(val == maxi2):\n",
        "\t\t\t\t# finding the minimum element in grid index where the maximum was found in the col difference\n",
        "\t\t\t\tmini1 = INF\n",
        "\t\t\t\tfor j in range(n):\n",
        "\t\t\t\t\tmini1 = min(mini1, grid[j][ind])\n",
        "\n",
        "\t\t\t\tfor ind2 in range(n):\n",
        "\t\t\t\t\tval2 = grid[ind2][ind]\n",
        "\t\t\t\t\tif val2 == mini1:\n",
        "\t\t\t\t\t\t# calculating the min of supply and demand in that row and col\n",
        "\t\t\t\t\t\tmini2 = min(supply[ind2], demand[ind])\n",
        "\t\t\t\t\t\tans += mini2 * mini1\n",
        "\t\t\t\t\t\t# subtracting the min from the supply and demand\n",
        "\t\t\t\t\t\tsupply[ind2] -= mini2\n",
        "\t\t\t\t\t\tdemand[ind] -= mini2\n",
        "\t\t\t\t\t\t# if demand is smaller then the entire col is assigned max value so that the col is eliminated for the next iteration\n",
        "\t\t\t\t\t\tif(demand[ind] == 0):\n",
        "\t\t\t\t\t\t\tfor r in range(n):\n",
        "\t\t\t\t\t\t\t\tgrid[r][ind] = INF\n",
        "\t\t\t\t\t\t# if supply is smaller then the entire row is assigned max value so that the row is eliminated for the next iteration\n",
        "\t\t\t\t\t\telse:\n",
        "\t\t\t\t\t\t\tgrid[ind2] = [INF for i in range(m)]\n",
        "\t\t\t\t\t\tbreak\n",
        "\t\t\t\tbreak\n",
        "\n",
        "print(\"The basic feasible solution is \", ans)"
      ]
    }
  ]
}