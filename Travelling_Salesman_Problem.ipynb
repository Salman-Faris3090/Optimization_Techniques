{
  "nbformat": 4,
  "nbformat_minor": 0,
  "metadata": {
    "colab": {
      "provenance": [],
      "authorship_tag": "ABX9TyNyqk61xdBsuuTQmH70KLsT"
    },
    "kernelspec": {
      "name": "python3",
      "display_name": "Python 3"
    },
    "language_info": {
      "name": "python"
    }
  },
  "cells": [
    {
      "cell_type": "code",
      "execution_count": 1,
      "metadata": {
        "colab": {
          "base_uri": "https://localhost:8080/"
        },
        "id": "Xzt3yIYhvPtv",
        "outputId": "5ea2d1c5-1837-4eed-9554-e22d59425295"
      },
      "outputs": [
        {
          "output_type": "stream",
          "name": "stdout",
          "text": [
            "Minimum Cost : 90\n"
          ]
        }
      ],
      "source": [
        "from itertools import permutations\n",
        "from sys import maxsize\n",
        "\n",
        "V = 4\n",
        "\n",
        "\n",
        "def travellingSalesmanProblem(graph, n):\n",
        "\n",
        "    nodes = []\n",
        "    for i in range(V):\n",
        "        if i != n:\n",
        "            nodes.append(i)\n",
        "    minimumPath = maxsize\n",
        "    nextPermutation = permutations(nodes)\n",
        "    for i in nextPermutation:\n",
        "        currentPathWeight = 0\n",
        "        k = n\n",
        "        for j in i:\n",
        "            currentPathWeight += graph[k][j]\n",
        "            k = j\n",
        "        currentPathWeight += graph[k][n]\n",
        "        minimumPath = min(minimumPath, currentPathWeight)\n",
        "    return minimumPath\n",
        "\n",
        "if __name__ == \"__main__\":\n",
        "    graph = [[0, 12, 18, 24], [12, 0, 36, 28], [18, 36, 0, 32], [24, 28, 32, 0]]\n",
        "    n = 0\n",
        "    minimumPathWeight = travellingSalesmanProblem(graph, n)\n",
        "    print(\"Minimum Cost :\", minimumPathWeight)"
      ]
    }
  ]
}